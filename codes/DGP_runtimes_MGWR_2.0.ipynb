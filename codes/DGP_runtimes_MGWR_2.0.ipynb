{
 "cells": [
  {
   "cell_type": "code",
   "execution_count": 1,
   "metadata": {},
   "outputs": [
    {
     "name": "stderr",
     "output_type": "stream",
     "text": [
      "C:\\ProgramData\\Anaconda3\\lib\\site-packages\\libpysal\\io\\iohandlers\\__init__.py:25: UserWarning: SQLAlchemy and Geomet not installed, database I/O disabled\n",
      "  warnings.warn('SQLAlchemy and Geomet not installed, database I/O disabled')\n"
     ]
    }
   ],
   "source": [
    "import multiprocessing as mp\n",
    "import sys\n",
    "import numpy as np\n",
    "import pandas as pd\n",
    "sys.path.append('/Users/Ziqi/Desktop/mgwr-optim/')\n",
    "from mgwr.gwr import GWR,MGWR\n",
    "from mgwr.sel_bw import Sel_BW\n",
    "import time\n",
    "from memory_profiler import memory_usage\n",
    "%load_ext memory_profiler"
   ]
  },
  {
   "cell_type": "code",
   "execution_count": 2,
   "metadata": {},
   "outputs": [
    {
     "name": "stdout",
     "output_type": "stream",
     "text": [
      "env: OMP_NUM_THREADS=1\n"
     ]
    }
   ],
   "source": [
    "%env OMP_NUM_THREADS=1"
   ]
  },
  {
   "cell_type": "code",
   "execution_count": 3,
   "metadata": {},
   "outputs": [],
   "source": [
    "pool=mp.Pool(8)"
   ]
  },
  {
   "cell_type": "code",
   "execution_count": 4,
   "metadata": {
    "scrolled": false
   },
   "outputs": [
    {
     "name": "stderr",
     "output_type": "stream",
     "text": [
      "  4%|█▋                                        | 8/200 [00:29<11:43,  3.67s/it]"
     ]
    },
    {
     "name": "stdout",
     "output_type": "stream",
     "text": [
      "[ 62.  90. 317. 179. 601. 198. 732. 827. 893. 202.]\n",
      "time searching 1000 10 38.63152313232422\n",
      "time total 1000 10 51.07350516319275\n"
     ]
    },
    {
     "name": "stderr",
     "output_type": "stream",
     "text": [
      "\n",
      "  0%|                                                  | 0/200 [00:00<?, ?it/s]\n",
      "  0%|▏                                         | 1/200 [00:08<29:35,  8.92s/it]\n",
      "  1%|▍                                         | 2/200 [00:17<29:34,  8.96s/it]\n",
      "  2%|▋                                         | 3/200 [00:26<29:23,  8.95s/it]\n",
      "  2%|▊                                         | 4/200 [00:35<29:07,  8.91s/it]\n",
      "  2%|█                                         | 5/200 [00:44<29:02,  8.93s/it]\n",
      "  3%|█▎                                        | 6/200 [00:53<29:01,  8.98s/it]\n",
      "  4%|█▍                                        | 7/200 [01:03<29:08,  9.06s/it]\n",
      "  4%|█▋                                        | 8/200 [01:10<27:19,  8.54s/it]\n",
      "  4%|█▉                                        | 9/200 [01:10<19:36,  6.16s/it]"
     ]
    },
    {
     "name": "stdout",
     "output_type": "stream",
     "text": [
      "[  74.  166.  302.  274.  572.  644.  818.  953.  351. 1554.]\n",
      "time searching 2000 10 75.39165091514587\n",
      "time total 2000 10 127.76275539398193\n"
     ]
    },
    {
     "name": "stderr",
     "output_type": "stream",
     "text": [
      "\n",
      "\n",
      "  0%|                                                  | 0/200 [00:00<?, ?it/s]\n",
      "\n",
      "  0%|▏                                       | 1/200 [00:35<1:57:26, 35.41s/it]\n",
      "\n",
      "  1%|▍                                       | 2/200 [01:12<1:58:03, 35.77s/it]\n",
      "\n",
      "  2%|▌                                       | 3/200 [01:47<1:57:34, 35.81s/it]"
     ]
    },
    {
     "name": "stdout",
     "output_type": "stream",
     "text": [
      "[ 134.  295.  700.  721. 1364. 2001. 1326. 2212. 1765. 1202.]\n",
      "time searching 5000 10 157.74303936958313\n",
      "time total 5000 10 370.9211950302124\n"
     ]
    },
    {
     "name": "stderr",
     "output_type": "stream",
     "text": [
      "\n",
      "\n",
      "\n",
      "  0%|                                                  | 0/200 [00:00<?, ?it/s]\n",
      "\n",
      "\n",
      "  0%|▏                                      | 1/200 [01:49<6:02:10, 109.20s/it]\n",
      "\n",
      "\n",
      "  1%|▍                                      | 2/200 [03:40<6:02:30, 109.85s/it]\n",
      "\n",
      "\n",
      "  2%|▌                                      | 3/200 [05:34<6:04:19, 110.96s/it]\n",
      "\n",
      "\n",
      "  2%|▊                                      | 4/200 [07:25<6:02:37, 111.01s/it]\n",
      "\n",
      "\n",
      "  2%|▉                                      | 5/200 [09:16<6:00:46, 111.01s/it]\n",
      "\n",
      "\n",
      "  3%|█▏                                     | 6/200 [10:57<5:49:22, 108.05s/it]"
     ]
    },
    {
     "name": "stdout",
     "output_type": "stream",
     "text": [
      "[ 219.  452.  878.  952. 2535. 3095. 1445. 3115. 2219. 1643.]\n",
      "time searching 10000 10 763.939285993576\n",
      "time total 10000 10 2652.3044426441193\n"
     ]
    },
    {
     "name": "stderr",
     "output_type": "stream",
     "text": [
      "\n",
      "\n",
      "\n",
      "\n",
      "  0%|                                                  | 0/200 [00:00<?, ?it/s]\n",
      "\n",
      "\n",
      "\n",
      "  0%|▏                                     | 1/200 [04:04<13:30:52, 244.49s/it]\n",
      "\n",
      "\n",
      "\n",
      "  1%|▍                                     | 2/200 [08:05<13:23:36, 243.52s/it]\n",
      "\n",
      "\n",
      "\n",
      "  2%|▌                                     | 3/200 [12:07<13:17:44, 242.97s/it]\n",
      "\n",
      "\n",
      "\n",
      "  2%|▊                                     | 4/200 [16:04<13:08:10, 241.28s/it]\n",
      "\n",
      "\n",
      "\n",
      "  2%|▉                                     | 5/200 [20:00<12:59:09, 239.74s/it]\n",
      "\n",
      "\n",
      "\n",
      "  3%|█▏                                    | 6/200 [23:58<12:53:32, 239.24s/it]"
     ]
    },
    {
     "name": "stdout",
     "output_type": "stream",
     "text": [
      "[ 282.  575. 1206. 1739. 2030. 3616. 2855. 4761. 2621. 5316.]\n",
      "time searching 15000 10 1930.8444361686707\n",
      "time total 15000 10 10068.876902580261\n"
     ]
    },
    {
     "name": "stderr",
     "output_type": "stream",
     "text": [
      "\n",
      "\n",
      "\n",
      "\n",
      "\n",
      "  0%|                                                  | 0/200 [00:00<?, ?it/s]\n",
      "\n",
      "\n",
      "\n",
      "\n",
      "  0%|▏                                     | 1/200 [07:22<24:27:39, 442.51s/it]\n",
      "\n",
      "\n",
      "\n",
      "\n",
      "  1%|▍                                     | 2/200 [14:56<24:31:16, 445.84s/it]\n",
      "\n",
      "\n",
      "\n",
      "\n",
      "  2%|▌                                     | 3/200 [22:27<24:29:04, 447.44s/it]\n",
      "\n",
      "\n",
      "\n",
      "\n",
      "  2%|▊                                     | 4/200 [29:57<24:24:25, 448.29s/it]\n",
      "\n",
      "\n",
      "\n",
      "\n",
      "  2%|▉                                     | 5/200 [37:28<24:19:27, 449.07s/it]\n",
      "\n",
      "\n",
      "\n",
      "\n",
      "  3%|█▏                                    | 6/200 [44:57<24:11:43, 448.99s/it]"
     ]
    },
    {
     "name": "stdout",
     "output_type": "stream",
     "text": [
      "[ 369.  644. 1239. 1971. 3163. 3796. 3718. 4668. 4439. 4821.]\n",
      "time searching 20000 10 3565.402544260025\n",
      "time total 20000 10 23236.403160572052\n"
     ]
    },
    {
     "name": "stderr",
     "output_type": "stream",
     "text": [
      "\n",
      "\n",
      "\n",
      "\n",
      "\n",
      "\n",
      "  0%|                                                  | 0/200 [00:00<?, ?it/s]\n",
      "\n",
      "\n",
      "\n",
      "\n",
      "\n",
      "  0%|▏                                   | 1/200 [58:54<195:22:42, 3534.49s/it]\n",
      "\n",
      "\n",
      "\n",
      "\n",
      "\n",
      "  1%|▎                                 | 2/200 [1:56:39<193:15:15, 3513.72s/it]\n",
      "\n",
      "\n",
      "\n",
      "\n",
      "\n",
      "  2%|▌                                 | 3/200 [2:57:18<194:19:58, 3551.26s/it]\n",
      "\n",
      "\n",
      "\n",
      "\n",
      "\n",
      "  2%|▋                                 | 4/200 [3:58:52<195:40:36, 3594.06s/it]\n",
      "\n",
      "\n",
      "\n",
      "\n",
      "\n",
      "  2%|▊                                 | 5/200 [4:57:13<193:09:41, 3566.06s/it]\n",
      "\n",
      "\n",
      "\n",
      "\n",
      "\n",
      "  3%|█                                 | 6/200 [5:58:50<194:17:06, 3605.29s/it]"
     ]
    },
    {
     "name": "stdout",
     "output_type": "stream",
     "text": [
      "[ 545. 1085. 2060. 2956. 4695. 6926. 5718. 8110. 6043. 6318.]\n",
      "time searching 40000 10 27455.540294647217\n",
      "time total 40000 10 301126.69489622116\n",
      "Wall time: 3d 21h 47min 15s\n"
     ]
    }
   ],
   "source": [
    "%%time\n",
    "for size in [1000,2000,5000,10000,15000,20000,40000]:\n",
    "    for k in [10]:\n",
    "        filename = \"test0131_sub_\"+str(size)+\"_\"+str(k) + \".csv\"\n",
    "        test = pd.read_csv(filename)\n",
    "        \n",
    "        coords = list(zip(test.x_coord.values,test.y_coord.values))\n",
    "        X = test.iloc[:,4:].values\n",
    "        y = test.Y_new.values.reshape(-1,1)\n",
    "        \n",
    "        start = time.time()\n",
    "        se = Sel_BW(coords,y,X,multi=True,constant=False,)\n",
    "        bws = se.search(rss_score=True, pool=pool)\n",
    "        print(bws)\n",
    "        time_used_search = (time.time() - start)\n",
    "        print('time searching',size,k,time_used_search)\n",
    "        n_chunks = int(np.ceil(size*size*8*2*k/1000/1000/1000/16))\n",
    "        rslt = MGWR(coords,y,X,selector=se,constant=False).fit(n_chunks=n_chunks,pool=pool)\n",
    "        time_used_total = (time.time() - start)\n",
    "        print('time total',size,k,time_used_total)\n",
    "         "
   ]
  },
  {
   "cell_type": "code",
   "execution_count": null,
   "metadata": {},
   "outputs": [],
   "source": []
  }
 ],
 "metadata": {
  "kernelspec": {
   "display_name": "Python 3",
   "language": "python",
   "name": "python3"
  },
  "language_info": {
   "codemirror_mode": {
    "name": "ipython",
    "version": 3
   },
   "file_extension": ".py",
   "mimetype": "text/x-python",
   "name": "python",
   "nbconvert_exporter": "python",
   "pygments_lexer": "ipython3",
   "version": "3.6.6"
  }
 },
 "nbformat": 4,
 "nbformat_minor": 2
}
