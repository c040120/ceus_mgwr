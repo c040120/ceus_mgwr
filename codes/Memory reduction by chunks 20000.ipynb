{
 "cells": [
  {
   "cell_type": "code",
   "execution_count": 1,
   "metadata": {},
   "outputs": [
    {
     "name": "stderr",
     "output_type": "stream",
     "text": [
      "C:\\Users\\lziqi\\AppData\\Local\\Continuum\\anaconda3\\lib\\site-packages\\libpysal\\weights\\util.py:19: UserWarning: geopandas not available. Some functionality will be disabled.\n",
      "  warn('geopandas not available. Some functionality will be disabled.')\n",
      "C:\\Users\\lziqi\\AppData\\Local\\Continuum\\anaconda3\\lib\\site-packages\\libpysal\\io\\iohandlers\\__init__.py:25: UserWarning: SQLAlchemy and Geomet not installed, database I/O disabled\n",
      "  warnings.warn('SQLAlchemy and Geomet not installed, database I/O disabled')\n"
     ]
    }
   ],
   "source": [
    "import numpy as np\n",
    "import sys,os\n",
    "import multiprocessing as mp\n",
    "import numpy as np\n",
    "import pandas as pd\n",
    "import libpysal as ps\n",
    "sys.path.append('/Users/lziqi/Desktop/mgwr-optim/')\n",
    "from mgwr.gwr import GWR,MGWR\n",
    "from mgwr.sel_bw import Sel_BW\n",
    "import matplotlib.pyplot as plt\n",
    "import time\n",
    "from memory_profiler import memory_usage\n",
    "%load_ext memory_profiler"
   ]
  },
  {
   "cell_type": "code",
   "execution_count": 2,
   "metadata": {},
   "outputs": [
    {
     "name": "stdout",
     "output_type": "stream",
     "text": [
      "env: OMP_NUM_THREADS=1\n"
     ]
    }
   ],
   "source": [
    "%env OMP_NUM_THREADS=1"
   ]
  },
  {
   "cell_type": "code",
   "execution_count": 3,
   "metadata": {},
   "outputs": [],
   "source": [
    "pool=mp.Pool(8)"
   ]
  },
  {
   "cell_type": "code",
   "execution_count": 4,
   "metadata": {},
   "outputs": [
    {
     "name": "stderr",
     "output_type": "stream",
     "text": [
      "  3%|██▎                                                                           | 6/200 [34:12<18:24:11, 341.50s/it]"
     ]
    }
   ],
   "source": [
    "size=20000;k=10\n",
    "filename = \"test0131_sub_\"+str(size)+\"_\"+str(k) + \".csv\"\n",
    "test = pd.read_csv(filename)\n",
    "coords = np.array(list(zip(test.x_coord.values,test.y_coord.values)))\n",
    "X = test.iloc[:,4:].values\n",
    "y = test.Y_new.values.reshape(-1,1)\n",
    "\n",
    "se = Sel_BW(coords,y,X,multi=True,constant=False)\n",
    "bws = se.search(pool=pool)"
   ]
  },
  {
   "cell_type": "code",
   "execution_count": 5,
   "metadata": {},
   "outputs": [
    {
     "name": "stdout",
     "output_type": "stream",
     "text": [
      "AICc: 33002.480901537165\n",
      "mem 20000 10 1 42680.8125 11788.066672801971\n",
      "AICc: 33002.480901537165\n",
      "mem 20000 10 2 21630.1015625 12226.058495759964\n",
      "AICc: 33002.480901537165\n",
      "mem 20000 10 4 11508.16796875 14901.871520757675\n",
      "AICc: 33002.480901537165\n",
      "mem 20000 10 8 6427.7890625 20376.810804605484\n",
      "Wall time: 16h 28min 12s\n"
     ]
    }
   ],
   "source": [
    "%%time\n",
    "mems = []\n",
    "times = []\n",
    "for n_chunks in [1,2,4,8]:\n",
    "        def run():\n",
    "            rslt=MGWR(coords,y,X,selector=se,constant=False).fit(n_chunks=n_chunks,pool=pool)\n",
    "            print(\"AICc:\",rslt.aicc)\n",
    "        start = time.time()    \n",
    "        mem_used = np.max(memory_usage(run,include_children=True))\n",
    "        mems += [mem_used]\n",
    "        end = time.time()\n",
    "        times += [end-start]\n",
    "        print('mem',size,k,n_chunks,mem_used,end-start)\n",
    "        "
   ]
  },
  {
   "cell_type": "code",
   "execution_count": 6,
   "metadata": {},
   "outputs": [
    {
     "data": {
      "text/plain": [
       "Text(0.5,1,'Effectiveness of the Chunk Parameter in reducing Memory Footprint')"
      ]
     },
     "execution_count": 6,
     "metadata": {},
     "output_type": "execute_result"
    },
    {
     "data": {
      "image/png": "[encoded data removed]",
      "text/plain": [
       "<Figure size 576x288 with 1 Axes>"
      ]
     },
     "metadata": {
      "needs_background": "light"
     },
     "output_type": "display_data"
    }
   ],
   "source": [
    "fig = plt.figure(figsize=(8,4)) \n",
    "times = np.array(mems)/1000\n",
    "plt.plot([1,2,4,8],np.array(times),c='r',marker='o')\n",
    "plt.xlabel('n_chunks')\n",
    "plt.ylabel('Memory (GB)')\n",
    "plt.title('Effectiveness of the Chunk Parameter in reducing Memory Footprint')"
   ]
  },
  {
   "cell_type": "code",
   "execution_count": 7,
   "metadata": {},
   "outputs": [
    {
     "data": {
      "text/plain": [
       "Text(0,0.5,'Time (minutes)')"
      ]
     },
     "execution_count": 7,
     "metadata": {},
     "output_type": "execute_result"
    },
    {
     "data": {
      "image/png": "[encoded data removed]",
      "text/plain": [
       "<Figure size 576x288 with 1 Axes>"
      ]
     },
     "metadata": {
      "needs_background": "light"
     },
     "output_type": "display_data"
    }
   ],
   "source": [
    "times = np.array(times)\n",
    "fig = plt.figure(figsize=(8,4)) \n",
    "times = np.array(times)/60\n",
    "plt.plot([1,2,4,8],np.array(times),c='r',marker='o')\n",
    "plt.xlabel('n_chunks')\n",
    "plt.ylabel('Time (minutes)')"
   ]
  },
  {
   "cell_type": "code",
   "execution_count": null,
   "metadata": {},
   "outputs": [],
   "source": []
  }
 ],
 "metadata": {
  "kernelspec": {
   "display_name": "Python 3",
   "language": "python",
   "name": "python3"
  },
  "language_info": {
   "codemirror_mode": {
    "name": "ipython",
    "version": 3
   },
   "file_extension": ".py",
   "mimetype": "text/x-python",
   "name": "python",
   "nbconvert_exporter": "python",
   "pygments_lexer": "ipython3",
   "version": "3.7.0"
  }
 },
 "nbformat": 4,
 "nbformat_minor": 2
}
