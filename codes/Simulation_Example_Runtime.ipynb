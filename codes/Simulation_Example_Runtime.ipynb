{
 "cells": [
  {
   "cell_type": "code",
   "execution_count": 1,
   "metadata": {},
   "outputs": [
    {
     "name": "stderr",
     "output_type": "stream",
     "text": [
      "C:\\ProgramData\\Anaconda3\\lib\\site-packages\\libpysal\\io\\iohandlers\\__init__.py:25: UserWarning: SQLAlchemy and Geomet not installed, database I/O disabled\n",
      "  warnings.warn('SQLAlchemy and Geomet not installed, database I/O disabled')\n"
     ]
    }
   ],
   "source": [
    "import sys\n",
    "import numpy as np\n",
    "import multiprocessing as mp\n",
    "import pandas as pd\n",
    "sys.path.append('/Users/Ziqi/Desktop/mgwr-optim/')\n",
    "from mgwr.gwr import GWR,MGWR\n",
    "from mgwr.sel_bw import Sel_BW\n",
    "import matplotlib.pyplot as plt"
   ]
  },
  {
   "cell_type": "code",
   "execution_count": 2,
   "metadata": {},
   "outputs": [],
   "source": [
    "n = 625\n",
    "b0 = 3\n",
    "b1 = np.zeros((25,25))\n",
    "b2 = np.zeros((25,25))\n",
    "e = np.zeros((25,25))\n",
    "\n",
    "for i in range(25):\n",
    "    for j in range(25):\n",
    "        b1[i][j] = 1+ 1/12*(i+j)\n",
    "        b2[i][j] = 1+ 1/324*(36-(6-i/2)**2)*(36-(6-j/2)**2)\n",
    "        e[i][j] = np.random.normal(0, 0.5)\n",
    "\n",
    "betas = np.hstack((b1.reshape(-1,1), b2.reshape(-1,1)))\n",
    "err = e.reshape(-1,1)\n",
    "X = np.random.randn(n,2)\n",
    "y = b0 + np.sum(betas*X,axis=1).reshape(-1,1)\n",
    "u = np.array([np.linspace(0, 24, num=25)]*25).reshape(-1)\n",
    "v = np.array([np.linspace(0, 24, num=25)]*25).T.reshape(-1)\n",
    "n = y.shape[0]\n",
    "coords = list(zip(u,v))"
   ]
  },
  {
   "cell_type": "code",
   "execution_count": 3,
   "metadata": {},
   "outputs": [
    {
     "data": {
      "image/png": "[encoded data removed]",
      "text/plain": [
       "<matplotlib.figure.Figure at 0x2b4f3955898>"
      ]
     },
     "metadata": {},
     "output_type": "display_data"
    }
   ],
   "source": [
    "plt.figure(1,figsize=(8, 8))\n",
    "plt.subplot(121)\n",
    "plt.title('b1')\n",
    "plt.imshow(betas[:,0].reshape(25,25),vmin=1,vmax=5)\n",
    "plt.colorbar(fraction=0.046, pad=0.04)\n",
    "plt.axis('off')\n",
    "plt.subplot(122)\n",
    "plt.title('b2')\n",
    "plt.imshow(betas[:,1].reshape(25,25),vmin=1,vmax=5)\n",
    "plt.colorbar(fraction=0.046, pad=0.04)\n",
    "plt.axis('off')\n",
    "im = plt.show()"
   ]
  },
  {
   "cell_type": "code",
   "execution_count": 4,
   "metadata": {},
   "outputs": [],
   "source": [
    "pool=mp.Pool()"
   ]
  },
  {
   "cell_type": "code",
   "execution_count": 5,
   "metadata": {},
   "outputs": [
    {
     "data": {
      "application/vnd.jupyter.widget-view+json": {
       "model_id": "13c3936768954b8e98ebe918ef853db0"
      }
     },
     "metadata": {},
     "output_type": "display_data"
    },
    {
     "name": "stdout",
     "output_type": "stream",
     "text": [
      "\n",
      "Wall time: 7.43 s\n"
     ]
    }
   ],
   "source": [
    "%%time\n",
    "se = Sel_BW(coords,y,X,multi=True)\n",
    "bws = se.search(pool=pool)"
   ]
  },
  {
   "cell_type": "code",
   "execution_count": 6,
   "metadata": {},
   "outputs": [
    {
     "data": {
      "application/vnd.jupyter.widget-view+json": {
       "model_id": "b04ef3f31dab46aca50fac041cede502"
      }
     },
     "metadata": {},
     "output_type": "display_data"
    },
    {
     "name": "stdout",
     "output_type": "stream",
     "text": [
      "\n",
      "Wall time: 1.66 s\n"
     ]
    }
   ],
   "source": [
    "%%time\n",
    "mgwr_results = MGWR(coords,y,X,selector=se).fit(pool=pool)"
   ]
  },
  {
   "cell_type": "code",
   "execution_count": 7,
   "metadata": {},
   "outputs": [
    {
     "data": {
      "image/png": "[encoded data removed]",
      "text/plain": [
       "<matplotlib.figure.Figure at 0x2b4f3ddb4e0>"
      ]
     },
     "metadata": {},
     "output_type": "display_data"
    }
   ],
   "source": [
    "plt.figure(1,figsize=(8, 8))\n",
    "plt.subplot(121)\n",
    "plt.title('b1')\n",
    "plt.imshow(mgwr_results.params[:,1].reshape(25,25),vmin=1,vmax=5)\n",
    "plt.colorbar(fraction=0.046, pad=0.04)\n",
    "plt.axis('off')\n",
    "plt.subplot(122)\n",
    "plt.title('b2')\n",
    "plt.imshow(mgwr_results.params[:,2].reshape(25,25),vmin=1,vmax=5)\n",
    "plt.colorbar(fraction=0.046, pad=0.04)\n",
    "plt.axis('off')\n",
    "im = plt.show()"
   ]
  }
 ],
 "metadata": {
  "kernelspec": {
   "display_name": "Python 3",
   "language": "python",
   "name": "python3"
  },
  "language_info": {
   "codemirror_mode": {
    "name": "ipython",
    "version": 3
   },
   "file_extension": ".py",
   "mimetype": "text/x-python",
   "name": "python",
   "nbconvert_exporter": "python",
   "pygments_lexer": "ipython3",
   "version": "3.6.6"
  }
 },
 "nbformat": 4,
 "nbformat_minor": 2
}
