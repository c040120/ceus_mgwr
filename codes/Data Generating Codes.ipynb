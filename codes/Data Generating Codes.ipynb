{
 "cells": [
  {
   "cell_type": "code",
   "execution_count": 1,
   "metadata": {},
   "outputs": [
    {
     "name": "stderr",
     "output_type": "stream",
     "text": [
      "/Users/Ziqi/anaconda/lib/python3.5/site-packages/libpysal/io/iohandlers/__init__.py:25: UserWarning: SQLAlchemy and Geomet not installed, database I/O disabled\n",
      "  warnings.warn('SQLAlchemy and Geomet not installed, database I/O disabled')\n"
     ]
    }
   ],
   "source": [
    "import numpy as np\n",
    "import geopandas as gp\n",
    "import sys\n",
    "import numpy as np\n",
    "import pandas as pd\n",
    "sys.path.append('/Users/Ziqi/Desktop/mgwr')\n",
    "from mgwr.gwr import GWR,MGWR\n",
    "from mgwr.sel_bw import Sel_BW\n",
    "import matplotlib.pyplot as plt\n",
    "%load_ext memory_profiler"
   ]
  },
  {
   "cell_type": "code",
   "execution_count": null,
   "metadata": {},
   "outputs": [],
   "source": [
    "betas = pd.read_csv(\"test_betas_\"+str(40000)+\"_\"+str(15) + \".csv\").iloc[:,3:].values\n",
    "n=40000\n",
    "size=200\n",
    "k=15\n",
    "bws = np.arange(n/k,n+1,n/k).astype(int)"
   ]
  },
  {
   "cell_type": "code",
   "execution_count": null,
   "metadata": {},
   "outputs": [],
   "source": [
    "u = np.array([np.linspace(0, size-1, num=size)]*size).reshape(-1)\n",
    "v = np.array([np.linspace(0, size-1, num=size)]*size).T.reshape(-1)\n",
    "n = size*size\n",
    "coords_new = np.array(list(zip(u,v)))\n",
    "\n",
    "cov = np.eye(k)\n",
    "cov[cov==0] = 0.3\n",
    "X_new = np.random.multivariate_normal([0]*k,cov,n)\n",
    "y_new = (np.sum(betas*X_new,axis=1).reshape(-1,1)) + np.random.randn(n,1)*0.5"
   ]
  },
  {
   "cell_type": "code",
   "execution_count": null,
   "metadata": {},
   "outputs": [],
   "source": [
    "%%time\n",
    "for size in np.arange(1000,40001,1000):\n",
    "    for k in [5,10,15]:\n",
    "        index = np.sort(np.random.choice(np.arange(n), size, replace=False))\n",
    "        y = y_new[index]\n",
    "        coords = coords_new[index]\n",
    "        if k == 5:\n",
    "            x_index = np.arange(0,15,3).astype(int)\n",
    "        elif k == 10:\n",
    "            x_index = np.arange(0,15,1.6).astype(int)\n",
    "        else:\n",
    "            x_index = np.arange(15)\n",
    "            \n",
    "        X = X_new[index,:][:,x_index]\n",
    "        \n",
    "        output = pd.DataFrame(np.hstack([coords,y,X]),columns=['x_coord','y_coord','Y_new'] + \n",
    "                      ['X'+ s for s in np.arange(k).astype(str)])\n",
    "        \n",
    "        name = \"test0314_sub_\"+str(size)+\"_\"+str(k) + \".csv\"\n",
    "        output.to_csv(name)\n",
    "        print(\"Write to\",name)"
   ]
  },
  {
   "cell_type": "code",
   "execution_count": null,
   "metadata": {},
   "outputs": [],
   "source": []
  }
 ],
 "metadata": {
  "kernelspec": {
   "display_name": "Python [conda root]",
   "language": "python",
   "name": "conda-root-py"
  },
  "language_info": {
   "codemirror_mode": {
    "name": "ipython",
    "version": 3
   },
   "file_extension": ".py",
   "mimetype": "text/x-python",
   "name": "python",
   "nbconvert_exporter": "python",
   "pygments_lexer": "ipython3",
   "version": "3.5.4"
  }
 },
 "nbformat": 4,
 "nbformat_minor": 2
}
