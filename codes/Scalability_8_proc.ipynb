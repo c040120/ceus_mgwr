{
 "cells": [
  {
   "cell_type": "code",
   "execution_count": 1,
   "metadata": {},
   "outputs": [
    {
     "name": "stderr",
     "output_type": "stream",
     "text": [
      "C:\\Users\\lziqi\\AppData\\Local\\Continuum\\anaconda3\\envs\\mgwr-clean\\lib\\site-packages\\libpysal\\weights\\util.py:19: UserWarning: geopandas not available. Some functionality will be disabled.\n",
      "  warn('geopandas not available. Some functionality will be disabled.')\n"
     ]
    }
   ],
   "source": [
    "import numpy as np\n",
    "import sys,os\n",
    "import multiprocessing as mp\n",
    "import numpy as np\n",
    "import pandas as pd\n",
    "import libpysal as ps\n",
    "sys.path.append('/Users/lziqi/Desktop/mgwr-optim')\n",
    "#sys.path.append('/Users/lziqi/Desktop/MGWR computational improvements/mgwr-/')\n",
    "from mgwr.gwr import GWR,MGWR\n",
    "from mgwr.sel_bw import Sel_BW\n",
    "import matplotlib.pyplot as plt\n",
    "import time\n",
    "#from memory_profiler import memory_usage\n",
    "#%load_ext memory_profiler"
   ]
  },
  {
   "cell_type": "code",
   "execution_count": 2,
   "metadata": {},
   "outputs": [
    {
     "name": "stdout",
     "output_type": "stream",
     "text": [
      "env: OMP_NUM_THREADS=1\n",
      "env: MKL_NUM_THREADS=1\n"
     ]
    }
   ],
   "source": [
    "%env OMP_NUM_THREADS=1\n",
    "%env MKL_NUM_THREADS=1"
   ]
  },
  {
   "cell_type": "code",
   "execution_count": 3,
   "metadata": {},
   "outputs": [
    {
     "name": "stderr",
     "output_type": "stream",
     "text": [
      "  3%|██▎                                                                           | 6/200 [54:37<29:00:41, 538.36s/it]\n",
      "  0%|                                                                                          | 0/200 [00:00<?, ?it/s]\n",
      "  0%|▍                                                                             | 1/200 [04:50<16:03:30, 290.51s/it]\n",
      "  1%|▊                                                                             | 2/200 [09:48<16:06:06, 292.76s/it]\n",
      "  2%|█▏                                                                            | 3/200 [14:54<16:13:59, 296.65s/it]\n",
      "  2%|█▌                                                                            | 4/200 [19:54<16:12:14, 297.63s/it]\n",
      "  2%|█▉                                                                            | 5/200 [24:54<16:10:14, 298.54s/it]\n",
      "  3%|██▎                                                                           | 6/200 [29:27<15:40:00, 290.73s/it]\n",
      "\n",
      "  0%|                                                                                          | 0/200 [00:00<?, ?it/s]\n",
      "\n",
      "  0%|▍                                                                             | 1/200 [03:40<12:11:24, 220.53s/it]\n",
      "\n",
      "  1%|▊                                                                             | 2/200 [07:26<12:13:06, 222.15s/it]\n",
      "\n",
      "  2%|█▏                                                                            | 3/200 [11:17<12:17:59, 224.77s/it]\n",
      "\n",
      "  2%|█▌                                                                            | 4/200 [15:02<12:15:03, 225.02s/it]\n",
      "\n",
      "  2%|█▉                                                                            | 5/200 [18:48<12:12:03, 225.25s/it]\n",
      "\n",
      "  3%|██▎                                                                           | 6/200 [22:14<11:48:56, 219.26s/it]\n",
      "\n",
      "\n",
      "  0%|                                                                                          | 0/200 [00:00<?, ?it/s]\n",
      "\n",
      "\n",
      "  0%|▍                                                                              | 1/200 [02:48<9:19:55, 168.82s/it]\n",
      "\n",
      "\n",
      "  1%|▊                                                                              | 2/200 [05:42<9:21:35, 170.18s/it]\n",
      "\n",
      "\n",
      "  2%|█▏                                                                             | 3/200 [08:39<9:25:31, 172.24s/it]\n",
      "\n",
      "\n",
      "  2%|█▌                                                                             | 4/200 [11:32<9:23:36, 172.53s/it]\n",
      "\n",
      "\n",
      "  2%|█▉                                                                             | 5/200 [14:25<9:21:10, 172.67s/it]\n",
      "\n",
      "\n",
      "  3%|██▎                                                                            | 6/200 [17:02<9:03:12, 168.00s/it]\n",
      "\n",
      "\n",
      "\n",
      "  0%|                                                                                          | 0/200 [00:00<?, ?it/s]\n",
      "\n",
      "\n",
      "\n",
      "  0%|▍                                                                              | 1/200 [02:21<7:50:19, 141.81s/it]\n",
      "\n",
      "\n",
      "\n",
      "  1%|▊                                                                              | 2/200 [04:47<7:51:29, 142.88s/it]\n",
      "\n",
      "\n",
      "\n",
      "  2%|█▏                                                                             | 3/200 [07:15<7:54:52, 144.63s/it]\n",
      "\n",
      "\n",
      "\n",
      "  2%|█▌                                                                             | 4/200 [09:41<7:53:31, 144.96s/it]\n",
      "\n",
      "\n",
      "\n",
      "  2%|█▉                                                                             | 5/200 [12:08<7:52:42, 145.45s/it]\n",
      "\n",
      "\n",
      "\n",
      "  3%|██▎                                                                            | 6/200 [14:20<7:37:24, 141.47s/it]\n",
      "\n",
      "\n",
      "\n",
      "\n",
      "  0%|                                                                                          | 0/200 [00:00<?, ?it/s]\n",
      "\n",
      "\n",
      "\n",
      "\n",
      "  0%|▍                                                                              | 1/200 [01:55<6:24:16, 115.86s/it]\n",
      "\n",
      "\n",
      "\n",
      "\n",
      "  1%|▊                                                                              | 2/200 [03:54<6:25:32, 116.83s/it]\n",
      "\n",
      "\n",
      "\n",
      "\n",
      "  2%|█▏                                                                             | 3/200 [05:56<6:28:16, 118.26s/it]\n",
      "\n",
      "\n",
      "\n",
      "\n",
      "  2%|█▌                                                                             | 4/200 [07:55<6:27:08, 118.51s/it]\n",
      "\n",
      "\n",
      "\n",
      "\n",
      "  2%|█▉                                                                             | 5/200 [09:54<6:25:52, 118.73s/it]\n",
      "\n",
      "\n",
      "\n",
      "\n",
      "  3%|██▎                                                                            | 6/200 [11:43<6:14:06, 115.70s/it]\n",
      "\n",
      "\n",
      "\n",
      "\n",
      "\n",
      "  0%|                                                                                          | 0/200 [00:00<?, ?it/s]\n",
      "\n",
      "\n",
      "\n",
      "\n",
      "\n",
      "  0%|▍                                                                              | 1/200 [01:43<5:41:41, 103.02s/it]\n",
      "\n",
      "\n",
      "\n",
      "\n",
      "\n",
      "  1%|▊                                                                              | 2/200 [03:27<5:41:06, 103.36s/it]\n",
      "\n",
      "\n",
      "\n",
      "\n",
      "\n",
      "  2%|█▏                                                                             | 3/200 [05:13<5:42:25, 104.29s/it]\n",
      "\n",
      "\n",
      "\n",
      "\n",
      "\n",
      "  2%|█▌                                                                             | 4/200 [06:57<5:40:42, 104.30s/it]\n",
      "\n",
      "\n",
      "\n",
      "\n",
      "\n",
      "  2%|█▉                                                                             | 5/200 [08:42<5:39:00, 104.31s/it]\n",
      "\n",
      "\n",
      "\n",
      "\n",
      "\n",
      "  3%|██▎                                                                            | 6/200 [10:17<5:28:12, 101.51s/it]\n",
      "\n",
      "\n",
      "\n",
      "\n",
      "\n",
      "\n",
      "  0%|                                                                                          | 0/200 [00:00<?, ?it/s]\n",
      "\n",
      "\n",
      "\n",
      "\n",
      "\n",
      "\n",
      "  0%|▍                                                                               | 1/200 [01:33<5:08:30, 93.02s/it]\n",
      "\n",
      "\n",
      "\n",
      "\n",
      "\n",
      "\n",
      "  1%|▊                                                                               | 2/200 [03:08<5:09:20, 93.74s/it]\n",
      "\n",
      "\n",
      "\n",
      "\n",
      "\n",
      "\n",
      "  2%|█▏                                                                              | 3/200 [04:45<5:11:04, 94.74s/it]\n",
      "\n",
      "\n",
      "\n",
      "\n",
      "\n",
      "\n",
      "  2%|█▌                                                                              | 4/200 [06:20<5:10:06, 94.93s/it]\n",
      "\n",
      "\n",
      "\n",
      "\n",
      "\n",
      "\n",
      "  2%|██                                                                              | 5/200 [07:55<5:08:40, 94.98s/it]\n",
      "\n",
      "\n",
      "\n",
      "\n",
      "\n",
      "\n",
      "  3%|██▍                                                                             | 6/200 [09:22<4:59:10, 92.53s/it]"
     ]
    },
    {
     "name": "stdout",
     "output_type": "stream",
     "text": [
      "Wall time: 8h 34min 34s\n"
     ]
    }
   ],
   "source": [
    "%%time\n",
    "times = []\n",
    "k = 10\n",
    "for size in [10000]:\n",
    "    for cores in np.arange(1,9,1):\n",
    "        pool=mp.Pool(cores)\n",
    "        filename = \"test0131_sub_\"+str(size)+\"_\"+str(k) + \".csv\"\n",
    "        test = pd.read_csv(filename)\n",
    "        \n",
    "        coords = np.array(list(zip(test.x_coord.values,test.y_coord.values)))\n",
    "        X = test.iloc[:,4:].values\n",
    "        y = test.Y_new.values.reshape(-1,1)\n",
    "        \n",
    "        start = time.time()   \n",
    "        se = Sel_BW(coords,y,X,multi=True,constant=False)\n",
    "        bws = se.search(pool=pool)\n",
    "        \n",
    "        time_used_bw = (time.time() - start)\n",
    "        \n",
    "        rslt=MGWR(coords,y,X,selector=se,constant=False).fit(n_chunks=1,pool=pool)\n",
    "        \n",
    "        time_used_total = (time.time() - start)\n",
    "        \n",
    "        times += [time_used_bw]\n",
    "        times += [time_used_total]\n",
    "\n",
    "        pool.close()\n",
    "        pool.join()\n",
    "        "
   ]
  },
  {
   "cell_type": "code",
   "execution_count": 4,
   "metadata": {},
   "outputs": [
    {
     "data": {
      "text/plain": [
       "Text(0.5, 1.0, 'N=10000')"
      ]
     },
     "execution_count": 4,
     "metadata": {},
     "output_type": "execute_result"
    },
    {
     "data": {
      "image/png": "[encoded data removed]",
      "text/plain": [
       "<Figure size 432x288 with 1 Axes>"
      ]
     },
     "metadata": {
      "needs_background": "light"
     },
     "output_type": "display_data"
    }
   ],
   "source": [
    "from matplotlib.ticker import MaxNLocator\n",
    "ax = plt.figure().gca()\n",
    "ax.xaxis.set_major_locator(MaxNLocator(integer=True))\n",
    "times = np.array(times)\n",
    "plt.plot(np.arange(1,9,1),np.array(times).reshape(-1,2)[:,0],c='r',marker='o')\n",
    "plt.xlabel('N of Processes')\n",
    "plt.ylabel('Runtime (s)')\n",
    "plt.title('N=10000')"
   ]
  },
  {
   "cell_type": "code",
   "execution_count": 5,
   "metadata": {},
   "outputs": [
    {
     "data": {
      "text/plain": [
       "Text(0.5, 1.0, 'N=10000')"
      ]
     },
     "execution_count": 5,
     "metadata": {},
     "output_type": "execute_result"
    },
    {
     "data": {
      "image/png": "[encoded data removed]",
      "text/plain": [
       "<Figure size 432x288 with 1 Axes>"
      ]
     },
     "metadata": {
      "needs_background": "light"
     },
     "output_type": "display_data"
    }
   ],
   "source": [
    "from matplotlib.ticker import MaxNLocator\n",
    "ax = plt.figure().gca()\n",
    "ax.xaxis.set_major_locator(MaxNLocator(integer=True))\n",
    "times = np.array(times)\n",
    "plt.plot(np.arange(1,9,1),np.array(times).reshape(-1,2)[0,0]/np.array(times).reshape(-1,2)[:,0],c='b',marker='o')\n",
    "plt.xlabel('N of Processes')\n",
    "plt.ylabel('Speed-up Factor')\n",
    "plt.title('N=10000')"
   ]
  },
  {
   "cell_type": "code",
   "execution_count": 6,
   "metadata": {},
   "outputs": [
    {
     "data": {
      "text/plain": [
       "Text(0.5, 1.0, 'N=10000')"
      ]
     },
     "execution_count": 6,
     "metadata": {},
     "output_type": "execute_result"
    },
    {
     "data": {
      "image/png": "[encoded data removed]",
      "text/plain": [
       "<Figure size 432x288 with 1 Axes>"
      ]
     },
     "metadata": {
      "needs_background": "light"
     },
     "output_type": "display_data"
    }
   ],
   "source": [
    "from matplotlib.ticker import MaxNLocator\n",
    "ax = plt.figure().gca()\n",
    "ax.xaxis.set_major_locator(MaxNLocator(integer=True))\n",
    "times = np.array(times)\n",
    "plt.plot(np.arange(1,9,1),np.array(times).reshape(-1,2)[:,1],c='r',marker='o')\n",
    "plt.xlabel('N of Processes')\n",
    "plt.ylabel('Runtime (s)')\n",
    "plt.title('N=10000')"
   ]
  },
  {
   "cell_type": "code",
   "execution_count": 7,
   "metadata": {},
   "outputs": [
    {
     "data": {
      "text/plain": [
       "Text(0.5, 1.0, 'N=10000')"
      ]
     },
     "execution_count": 7,
     "metadata": {},
     "output_type": "execute_result"
    },
    {
     "data": {
      "image/png": "[encoded data removed]",
      "text/plain": [
       "<Figure size 432x288 with 1 Axes>"
      ]
     },
     "metadata": {
      "needs_background": "light"
     },
     "output_type": "display_data"
    }
   ],
   "source": [
    "from matplotlib.ticker import MaxNLocator\n",
    "ax = plt.figure().gca()\n",
    "ax.xaxis.set_major_locator(MaxNLocator(integer=True))\n",
    "times = np.array(times)\n",
    "plt.plot(np.arange(1,9,1),np.array(times).reshape(-1,2)[0,1]/np.array(times).reshape(-1,2)[:,1],c='b',marker='o')\n",
    "plt.xlabel('N of Processes')\n",
    "plt.ylabel('Speed-up Factor')\n",
    "plt.title('N=10000')"
   ]
  },
  {
   "cell_type": "code",
   "execution_count": 8,
   "metadata": {},
   "outputs": [],
   "source": [
    "pd.DataFrame(np.array(times).reshape(-1,2)).to_csv(\"scalability_10000_8.csv\")"
   ]
  },
  {
   "cell_type": "code",
   "execution_count": null,
   "metadata": {},
   "outputs": [],
   "source": []
  }
 ],
 "metadata": {
  "kernelspec": {
   "display_name": "Python 3",
   "language": "python",
   "name": "python3"
  },
  "language_info": {
   "codemirror_mode": {
    "name": "ipython",
    "version": 3
   },
   "file_extension": ".py",
   "mimetype": "text/x-python",
   "name": "python",
   "nbconvert_exporter": "python",
   "pygments_lexer": "ipython3",
   "version": "3.6.8"
  }
 },
 "nbformat": 4,
 "nbformat_minor": 2
}
