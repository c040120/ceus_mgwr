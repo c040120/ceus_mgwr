{
 "cells": [
  {
   "cell_type": "code",
   "execution_count": 1,
   "metadata": {},
   "outputs": [
    {
     "name": "stderr",
     "output_type": "stream",
     "text": [
      "C:\\ProgramData\\Anaconda3\\lib\\site-packages\\libpysal\\io\\iohandlers\\__init__.py:25: UserWarning: SQLAlchemy and Geomet not installed, database I/O disabled\n",
      "  warnings.warn('SQLAlchemy and Geomet not installed, database I/O disabled')\n"
     ]
    }
   ],
   "source": [
    "import sys\n",
    "import numpy as np\n",
    "import pandas as pd\n",
    "sys.path.append('/Users/Ziqi/Desktop/mgwr-optim/')\n",
    "from mgwr.gwr import GWR,MGWR\n",
    "from mgwr.sel_bw import Sel_BW"
   ]
  },
  {
   "cell_type": "code",
   "execution_count": 2,
   "metadata": {},
   "outputs": [
    {
     "name": "stdout",
     "output_type": "stream",
     "text": [
      "env: OMP_NUM_THREADS=1\n"
     ]
    }
   ],
   "source": [
    "%env OMP_NUM_THREADS=1"
   ]
  },
  {
   "cell_type": "code",
   "execution_count": 3,
   "metadata": {},
   "outputs": [
    {
     "data": {
      "text/html": [
       "<div>\n",
       "<style scoped>\n",
       "    .dataframe tbody tr th:only-of-type {\n",
       "        vertical-align: middle;\n",
       "    }\n",
       "\n",
       "    .dataframe tbody tr th {\n",
       "        vertical-align: top;\n",
       "    }\n",
       "\n",
       "    .dataframe thead th {\n",
       "        text-align: right;\n",
       "    }\n",
       "</style>\n",
       "<table border=\"1\" class=\"dataframe\">\n",
       "  <thead>\n",
       "    <tr style=\"text-align: right;\">\n",
       "      <th></th>\n",
       "      <th>OBJECTID</th>\n",
       "      <th>X</th>\n",
       "      <th>Y</th>\n",
       "      <th>Percentchange</th>\n",
       "      <th>PPB</th>\n",
       "      <th>Percent_urban_41</th>\n",
       "      <th>Ratio1841</th>\n",
       "      <th>PCorn_Cult</th>\n",
       "      <th>UNINHABPCT</th>\n",
       "      <th>MEAN_ELEV</th>\n",
       "      <th>lnPopCrop</th>\n",
       "      <th>lnPotCult</th>\n",
       "      <th>lnWorkhouse</th>\n",
       "      <th>lnAHS</th>\n",
       "      <th>lnDistCoast</th>\n",
       "      <th>lnUrbanAcc</th>\n",
       "    </tr>\n",
       "  </thead>\n",
       "  <tbody>\n",
       "    <tr>\n",
       "      <th>0</th>\n",
       "      <td>874</td>\n",
       "      <td>128046.76</td>\n",
       "      <td>210113.45</td>\n",
       "      <td>-34.744409</td>\n",
       "      <td>6.731183</td>\n",
       "      <td>15.694888</td>\n",
       "      <td>104.742</td>\n",
       "      <td>51.640112</td>\n",
       "      <td>2.872063</td>\n",
       "      <td>21.560</td>\n",
       "      <td>0.876747</td>\n",
       "      <td>3.216060</td>\n",
       "      <td>-2.708330</td>\n",
       "      <td>3.465529</td>\n",
       "      <td>2.363688</td>\n",
       "      <td>7.261111</td>\n",
       "    </tr>\n",
       "    <tr>\n",
       "      <th>1</th>\n",
       "      <td>875</td>\n",
       "      <td>131157.13</td>\n",
       "      <td>200881.19</td>\n",
       "      <td>-36.842105</td>\n",
       "      <td>6.100917</td>\n",
       "      <td>0.000000</td>\n",
       "      <td>106.522</td>\n",
       "      <td>38.364780</td>\n",
       "      <td>2.678571</td>\n",
       "      <td>195.441</td>\n",
       "      <td>1.703997</td>\n",
       "      <td>3.002002</td>\n",
       "      <td>-2.900186</td>\n",
       "      <td>4.952171</td>\n",
       "      <td>9.077177</td>\n",
       "      <td>7.332147</td>\n",
       "    </tr>\n",
       "    <tr>\n",
       "      <th>2</th>\n",
       "      <td>876</td>\n",
       "      <td>125931.88</td>\n",
       "      <td>197947.14</td>\n",
       "      <td>-37.237762</td>\n",
       "      <td>6.426966</td>\n",
       "      <td>0.000000</td>\n",
       "      <td>111.070</td>\n",
       "      <td>35.714286</td>\n",
       "      <td>0.000000</td>\n",
       "      <td>255.351</td>\n",
       "      <td>1.764171</td>\n",
       "      <td>3.182508</td>\n",
       "      <td>-2.692713</td>\n",
       "      <td>4.930321</td>\n",
       "      <td>9.198086</td>\n",
       "      <td>7.293188</td>\n",
       "    </tr>\n",
       "    <tr>\n",
       "      <th>3</th>\n",
       "      <td>877</td>\n",
       "      <td>113204.66</td>\n",
       "      <td>204113.08</td>\n",
       "      <td>-51.907514</td>\n",
       "      <td>6.006944</td>\n",
       "      <td>0.000000</td>\n",
       "      <td>104.009</td>\n",
       "      <td>46.706587</td>\n",
       "      <td>0.689655</td>\n",
       "      <td>124.303</td>\n",
       "      <td>1.745450</td>\n",
       "      <td>2.854472</td>\n",
       "      <td>-3.098829</td>\n",
       "      <td>4.614020</td>\n",
       "      <td>6.993490</td>\n",
       "      <td>7.105138</td>\n",
       "    </tr>\n",
       "    <tr>\n",
       "      <th>4</th>\n",
       "      <td>879</td>\n",
       "      <td>116550.29</td>\n",
       "      <td>208855.28</td>\n",
       "      <td>-37.841727</td>\n",
       "      <td>5.864979</td>\n",
       "      <td>0.000000</td>\n",
       "      <td>100.577</td>\n",
       "      <td>43.893130</td>\n",
       "      <td>1.659751</td>\n",
       "      <td>154.058</td>\n",
       "      <td>1.703669</td>\n",
       "      <td>3.226480</td>\n",
       "      <td>-2.985109</td>\n",
       "      <td>4.065788</td>\n",
       "      <td>7.596820</td>\n",
       "      <td>7.006520</td>\n",
       "    </tr>\n",
       "  </tbody>\n",
       "</table>\n",
       "</div>"
      ],
      "text/plain": [
       "   OBJECTID          X          Y  Percentchange       PPB  Percent_urban_41  \\\n",
       "0       874  128046.76  210113.45     -34.744409  6.731183         15.694888   \n",
       "1       875  131157.13  200881.19     -36.842105  6.100917          0.000000   \n",
       "2       876  125931.88  197947.14     -37.237762  6.426966          0.000000   \n",
       "3       877  113204.66  204113.08     -51.907514  6.006944          0.000000   \n",
       "4       879  116550.29  208855.28     -37.841727  5.864979          0.000000   \n",
       "\n",
       "   Ratio1841  PCorn_Cult  UNINHABPCT  MEAN_ELEV  lnPopCrop  lnPotCult  \\\n",
       "0    104.742   51.640112    2.872063     21.560   0.876747   3.216060   \n",
       "1    106.522   38.364780    2.678571    195.441   1.703997   3.002002   \n",
       "2    111.070   35.714286    0.000000    255.351   1.764171   3.182508   \n",
       "3    104.009   46.706587    0.689655    124.303   1.745450   2.854472   \n",
       "4    100.577   43.893130    1.659751    154.058   1.703669   3.226480   \n",
       "\n",
       "   lnWorkhouse     lnAHS  lnDistCoast  lnUrbanAcc  \n",
       "0    -2.708330  3.465529     2.363688    7.261111  \n",
       "1    -2.900186  4.952171     9.077177    7.332147  \n",
       "2    -2.692713  4.930321     9.198086    7.293188  \n",
       "3    -3.098829  4.614020     6.993490    7.105138  \n",
       "4    -2.985109  4.065788     7.596820    7.006520  "
      ]
     },
     "execution_count": 3,
     "metadata": {},
     "output_type": "execute_result"
    }
   ],
   "source": [
    "df = pd.read_csv('/Users/Ziqi/Desktop/MGWR computational improvements/Irish Famine Variables2010_05_04 without Ulster.csv')\n",
    "df.head()"
   ]
  },
  {
   "cell_type": "code",
   "execution_count": 4,
   "metadata": {},
   "outputs": [],
   "source": [
    "y = df.Percentchange.values.reshape(-1,1)\n",
    "X = df[['lnPopCrop','PCorn_Cult','lnWorkhouse','lnUrbanAcc','lnPotCult','lnDistCoast','MEAN_ELEV']].values\n",
    "k = df.shape[1]\n",
    "u = df.X\n",
    "v = df.Y\n",
    "n = df.shape[0]\n",
    "coords = np.array(list(zip(u,v)))\n",
    "X = (X - X.mean(axis=0)) / X.std(axis=0)\n",
    "y = (y - y.mean(axis=0)) / y.std(axis=0)"
   ]
  },
  {
   "cell_type": "code",
   "execution_count": 5,
   "metadata": {},
   "outputs": [],
   "source": [
    "import multiprocessing as mp\n",
    "pool=mp.Pool()"
   ]
  },
  {
   "cell_type": "markdown",
   "metadata": {},
   "source": [
    "### GWR"
   ]
  },
  {
   "cell_type": "code",
   "execution_count": 6,
   "metadata": {},
   "outputs": [
    {
     "name": "stdout",
     "output_type": "stream",
     "text": [
      "Wall time: 6.79 s\n"
     ]
    }
   ],
   "source": [
    "%%time\n",
    "bw = Sel_BW(coords,y,X).search(pool=pool)\n",
    "rslt = GWR(coords,y,X,bw=bw).fit(pool=pool)"
   ]
  },
  {
   "cell_type": "markdown",
   "metadata": {},
   "source": [
    "### MGWR Backfitting"
   ]
  },
  {
   "cell_type": "code",
   "execution_count": 7,
   "metadata": {},
   "outputs": [
    {
     "data": {
      "application/vnd.jupyter.widget-view+json": {
       "model_id": "95ffc87bf47b44ae902764255f1885c1"
      }
     },
     "metadata": {},
     "output_type": "display_data"
    },
    {
     "name": "stdout",
     "output_type": "stream",
     "text": [
      "Wall time: 6min 3s\n"
     ]
    }
   ],
   "source": [
    "%%time\n",
    "se = Sel_BW(coords,y,X,multi=True)\n",
    "bws = se.search(pool=pool)"
   ]
  },
  {
   "cell_type": "code",
   "execution_count": 8,
   "metadata": {},
   "outputs": [
    {
     "data": {
      "text/plain": [
       "array([  43.,  314.,  310.,  439., 2275., 1385., 1321., 2178.])"
      ]
     },
     "execution_count": 8,
     "metadata": {},
     "output_type": "execute_result"
    }
   ],
   "source": [
    "bws"
   ]
  },
  {
   "cell_type": "markdown",
   "metadata": {},
   "source": [
    "### MGWR Inference"
   ]
  },
  {
   "cell_type": "code",
   "execution_count": 9,
   "metadata": {},
   "outputs": [
    {
     "data": {
      "application/vnd.jupyter.widget-view+json": {
       "model_id": "00f7ee3cf5424ad9b1ec1506c91735fe"
      }
     },
     "metadata": {},
     "output_type": "display_data"
    },
    {
     "name": "stdout",
     "output_type": "stream",
     "text": [
      "Wall time: 6min 34s\n"
     ]
    }
   ],
   "source": [
    "%%time\n",
    "rslt = MGWR(coords, y, X, selector=se).fit(pool=pool)"
   ]
  },
  {
   "cell_type": "code",
   "execution_count": 10,
   "metadata": {},
   "outputs": [],
   "source": [
    "pool.close()\n",
    "pool.join()"
   ]
  },
  {
   "cell_type": "code",
   "execution_count": null,
   "metadata": {},
   "outputs": [],
   "source": []
  }
 ],
 "metadata": {
  "kernelspec": {
   "display_name": "Python 3",
   "language": "python",
   "name": "python3"
  },
  "language_info": {
   "codemirror_mode": {
    "name": "ipython",
    "version": 3
   },
   "file_extension": ".py",
   "mimetype": "text/x-python",
   "name": "python",
   "nbconvert_exporter": "python",
   "pygments_lexer": "ipython3",
   "version": "3.6.6"
  }
 },
 "nbformat": 4,
 "nbformat_minor": 2
}
